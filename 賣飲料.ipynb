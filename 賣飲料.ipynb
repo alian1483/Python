{
  "cells": [
    {
      "cell_type": "markdown",
      "metadata": {
        "id": "view-in-github",
        "colab_type": "text"
      },
      "source": [
        "<a href=\"https://colab.research.google.com/github/alian1483/Python/blob/master/%E8%B3%A3%E9%A3%B2%E6%96%99.ipynb\" target=\"_parent\"><img src=\"https://colab.research.google.com/assets/colab-badge.svg\" alt=\"Open In Colab\"/></a>"
      ]
    },
    {
      "cell_type": "code",
      "source": [
        "print('A珍奶 , B紅茶 , C冬瓜茶')\n",
        "a1 = input ()\n",
        "\n",
        "if a1==\"A\":\n",
        "  print(\"a大杯 , b小杯\")\n",
        "  a2 = input ()\n",
        "  if a2==\"a\":\n",
        "    print(\"a全糖 , b半糖\")\n",
        "    a3 = input ()\n",
        "    if a3==\"a\":\n",
        "      print(\"大杯珍奶全糖,\"+apple)\n",
        "    elif a3==\"b\":\n",
        "      print(\"大杯珍奶半糖,\"+apple)\n",
        "  elif a3==\"b\":\n",
        "    print(\"a全糖 , b半糖\")\n",
        "    a4 = input ()\n",
        "    if a4==\"a\":\n",
        "      print(\"小杯珍奶全糖,\"+apple)\n",
        "    elif a4==\"b\":\n",
        "      print(\"小杯珍奶半糖,\"+apple)\n",
        "\n",
        "elif a1==\"B\":\n",
        "  print(\"a大杯 , b小杯\")\n",
        "  b2 = input ()\n",
        "  if b2==\"a\":\n",
        "    print(\"a全糖 , b半糖\")\n",
        "    b3 = input ()\n",
        "    if b3==\"a\":\n",
        "      print(\"大杯紅茶全糖,\"+apple)\n",
        "    elif b3==\"b\":\n",
        "      print(\"大杯紅茶半糖,\"+apple)\n",
        "  elif b2==\"b\":\n",
        "    print(\"a全糖 , b半糖\")\n",
        "    b4 = input ()\n",
        "    if b4==\"a\":\n",
        "      print(\"小杯紅茶全糖,\"+apple)\n",
        "    elif b4==\"b\":\n",
        "      print(\"小杯紅茶半糖,\"+apple)\n",
        "\n",
        "elif a1==\"C\":\n",
        "  print(\"冬瓜茶: a大杯 , b小杯\")\n",
        "  c2 = input ()\n",
        "  if c2==\"a\":\n",
        "    print(\"a全糖 , b半糖\")\n",
        "    c3 = input ()\n",
        "    if c3==\"a\":\n",
        "      print(\"大杯冬瓜茶全糖,\"+apple)\n",
        "    elif c3==\"b\":\n",
        "      print(\"大杯冬瓜茶半糖,\"+apple)\n",
        "  elif c2==\"b\":\n",
        "    print(\"a全糖 , b半糖\")\n",
        "    c4 = input ()\n",
        "    if c4==\"a\":\n",
        "      print(\"小杯冬瓜茶全糖,\"+apple)\n",
        "    elif c4==\"b\":\n",
        "      print(\"小杯冬瓜茶半糖,\"+apple)\n",
        "else:\n",
        "  print(\"錯誤\")\n",
        "\n",
        "apple = (\"請稍等~\")"
      ],
      "metadata": {
        "id": "ZpIf1u4tC6yD",
        "outputId": "bcd31c7f-25fb-49ed-b24c-52f5cf9c7e5c",
        "colab": {
          "base_uri": "https://localhost:8080/"
        }
      },
      "execution_count": null,
      "outputs": [
        {
          "output_type": "stream",
          "name": "stdout",
          "text": [
            "A珍奶 , B紅茶 , C冬瓜茶\n",
            "C\n",
            "冬瓜茶: a大杯 , b小杯\n",
            "b\n",
            "a全糖 , b半糖\n",
            "b\n",
            "小杯冬瓜茶半糖,請稍等~\n"
          ]
        }
      ]
    }
  ],
  "metadata": {
    "colab": {
      "collapsed_sections": [],
      "name": "賣飲料",
      "toc_visible": true,
      "provenance": [],
      "include_colab_link": true
    },
    "kernelspec": {
      "display_name": "Python 3",
      "name": "python3"
    }
  },
  "nbformat": 4,
  "nbformat_minor": 0
}